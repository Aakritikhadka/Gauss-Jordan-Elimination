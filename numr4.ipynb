{
  "cells": [
    {
      "cell_type": "markdown",
      "id": "07abbb93",
      "metadata": {
        "id": "07abbb93"
      },
      "source": [
        "# Project 4: Systems of Linear Equation Solving"
      ]
    },
    {
      "cell_type": "markdown",
      "id": "f159c680",
      "metadata": {
        "id": "f159c680"
      },
      "source": [
        "This week we will go over Gauss-Jordan and the algorithm to solve it."
      ]
    },
    {
      "cell_type": "markdown",
      "id": "cda24a18",
      "metadata": {
        "id": "cda24a18"
      },
      "source": [
        "# Rows function"
      ]
    },
    {
      "cell_type": "markdown",
      "id": "57e67fda",
      "metadata": {
        "id": "57e67fda"
      },
      "source": [
        "Firstly, we need to write methods for operation on rows needed for Jordan-Gauss method, which includes adding, swapping, and multiplying.\n",
        "\n",
        "Please note that I will make a copy of the matrix list and modify parts needed to be changed instead of appending to a totally new list within the function."
      ]
    },
    {
      "cell_type": "code",
      "execution_count": 32,
      "id": "c20cabdf",
      "metadata": {
        "colab": {
          "base_uri": "https://localhost:8080/"
        },
        "id": "c20cabdf",
        "outputId": "c31d6577-e2ad-4277-91f0-725160f6b126"
      },
      "outputs": [
        {
          "output_type": "execute_result",
          "data": {
            "text/plain": [
              "array([[ 3,  2,  3,  1],\n",
              "       [ 9, -2,  4,  3],\n",
              "       [ 6, -4,  1,  2]])"
            ]
          },
          "metadata": {},
          "execution_count": 32
        }
      ],
      "source": [
        "import math\n",
        "import numpy as np\n",
        "\n",
        "matrix = np.array([[3,2,3,1], [6,-4,1,2], [9,-2,4,3]])\n",
        "\n",
        "\n",
        "#SWAP ROWS\n",
        "\n",
        "def swap(matrx, r1, r2):\n",
        "    temp = matrx.copy()\n",
        "    temp[[r1, r2]] = temp[[r2, r1]]\n",
        "    return np.array(temp)\n",
        "\n",
        "swap(matrix, 1, 2)    \n"
      ]
    },
    {
      "cell_type": "code",
      "execution_count": 33,
      "id": "53fcf252",
      "metadata": {
        "colab": {
          "base_uri": "https://localhost:8080/"
        },
        "id": "53fcf252",
        "outputId": "f5c8362e-384c-4e13-f5b0-914a3600bc48"
      },
      "outputs": [
        {
          "output_type": "execute_result",
          "data": {
            "text/plain": [
              "array([[  3,   2,   3,   1],\n",
              "       [ 51, -14,  21,  17],\n",
              "       [  9,  -2,   4,   3]])"
            ]
          },
          "metadata": {},
          "execution_count": 33
        }
      ],
      "source": [
        "#ADD\n",
        "\n",
        "\n",
        "def addRow(matrx, row, toAdd, multiplier):\n",
        "    temp = matrx.copy()\n",
        "    for i in range(len(matrx[row, :])):\n",
        "        temp[row, i] = temp[row, i] + multiplier*temp[toAdd, i]\n",
        "    return np.array(temp)\n",
        "\n",
        "addRow(matrix, 1, 2, 5)\n"
      ]
    },
    {
      "cell_type": "code",
      "execution_count": 34,
      "id": "6c5468ed",
      "metadata": {
        "colab": {
          "base_uri": "https://localhost:8080/"
        },
        "id": "6c5468ed",
        "outputId": "72cfce64-e1c3-4cf1-f60b-c6c26d1534aa"
      },
      "outputs": [
        {
          "output_type": "execute_result",
          "data": {
            "text/plain": [
              "array([[ 1.        ,  0.66666667,  1.        ,  0.33333333],\n",
              "       [ 6.        , -4.        ,  1.        ,  2.        ],\n",
              "       [ 9.        , -2.        ,  4.        ,  3.        ]])"
            ]
          },
          "metadata": {},
          "execution_count": 34
        }
      ],
      "source": [
        "def toLeading1(matrx, row, col):\n",
        "    temp = matrx.copy()\n",
        "    temp = np.array(temp, float)\n",
        "    temp[row, :] = temp[row, :]/temp[row, col]\n",
        "    return np.array(temp)\n",
        "\n",
        "toLeading1(matrix, 0, 0)\n",
        "    "
      ]
    },
    {
      "cell_type": "markdown",
      "id": "20251190",
      "metadata": {
        "id": "20251190"
      },
      "source": [
        "Next part is to perform these functions on  at least a system of 3 functions and three unknown, which I assume to be the same."
      ]
    },
    {
      "cell_type": "code",
      "execution_count": 35,
      "id": "5452b6b6",
      "metadata": {
        "id": "5452b6b6"
      },
      "outputs": [],
      "source": [
        "A = np.array([[2, 3, -1], [1, -1, 1], [3, 4, -2]])"
      ]
    },
    {
      "cell_type": "markdown",
      "id": "3a31b06f",
      "metadata": {
        "id": "3a31b06f"
      },
      "source": [
        "We already have leading zero on row 1, so we can go ahead and skip that step."
      ]
    },
    {
      "cell_type": "code",
      "execution_count": 36,
      "id": "53ccc1ea",
      "metadata": {
        "colab": {
          "base_uri": "https://localhost:8080/"
        },
        "id": "53ccc1ea",
        "outputId": "dc5aeb75-c8fb-4e2e-c3cd-6fe9cee13af3"
      },
      "outputs": [
        {
          "output_type": "execute_result",
          "data": {
            "text/plain": [
              "array([[ 2,  3, -1],\n",
              "       [-1, -4,  2],\n",
              "       [ 3,  4, -2]])"
            ]
          },
          "metadata": {},
          "execution_count": 36
        }
      ],
      "source": [
        "A = addRow(A, 1, 0, -1)\n",
        "A"
      ]
    },
    {
      "cell_type": "code",
      "execution_count": 37,
      "id": "fbde2356",
      "metadata": {
        "colab": {
          "base_uri": "https://localhost:8080/"
        },
        "id": "fbde2356",
        "outputId": "9da5b8d0-9713-4ce4-c6ab-a2bccb252d37"
      },
      "outputs": [
        {
          "output_type": "execute_result",
          "data": {
            "text/plain": [
              "array([[ 2,  3, -1],\n",
              "       [-1, -4,  2],\n",
              "       [ 5,  7, -3]])"
            ]
          },
          "metadata": {},
          "execution_count": 37
        }
      ],
      "source": [
        "A = addRow(A, 2, 0, 1)\n",
        "A"
      ]
    },
    {
      "cell_type": "code",
      "execution_count": 38,
      "id": "8a27519e",
      "metadata": {
        "colab": {
          "base_uri": "https://localhost:8080/"
        },
        "id": "8a27519e",
        "outputId": "0dcb7711-a84f-485b-dc7f-a5de55621883"
      },
      "outputs": [
        {
          "output_type": "execute_result",
          "data": {
            "text/plain": [
              "array([[ 2,  3, -1],\n",
              "       [-1, -4,  2],\n",
              "       [ 5,  7, -3]])"
            ]
          },
          "metadata": {},
          "execution_count": 38
        }
      ],
      "source": [
        "A"
      ]
    },
    {
      "cell_type": "code",
      "execution_count": 39,
      "id": "3819434a",
      "metadata": {
        "colab": {
          "base_uri": "https://localhost:8080/"
        },
        "id": "3819434a",
        "outputId": "e052a924-385d-4ac7-fce4-a3fbcf1b107b"
      },
      "outputs": [
        {
          "output_type": "execute_result",
          "data": {
            "text/plain": [
              "array([[ 2.  ,  3.  , -1.  ],\n",
              "       [ 0.25,  1.  , -0.5 ],\n",
              "       [ 5.  ,  7.  , -3.  ]])"
            ]
          },
          "metadata": {},
          "execution_count": 39
        }
      ],
      "source": [
        "A = toLeading1(A, 1, 1)\n",
        "A"
      ]
    },
    {
      "cell_type": "code",
      "execution_count": 40,
      "id": "6603ed8c",
      "metadata": {
        "colab": {
          "base_uri": "https://localhost:8080/"
        },
        "id": "6603ed8c",
        "outputId": "e322cc69-91fc-448c-8294-4ad9c3a2e97e"
      },
      "outputs": [
        {
          "output_type": "execute_result",
          "data": {
            "text/plain": [
              "array([[ 0.75, -2.  ,  1.5 ],\n",
              "       [ 0.25,  1.  , -0.5 ],\n",
              "       [ 5.  ,  7.  , -3.  ]])"
            ]
          },
          "metadata": {},
          "execution_count": 40
        }
      ],
      "source": [
        "A = addRow(A, 0, 1, -5)\n",
        "A"
      ]
    },
    {
      "cell_type": "code",
      "execution_count": 41,
      "id": "7938cb9c",
      "metadata": {
        "colab": {
          "base_uri": "https://localhost:8080/"
        },
        "id": "7938cb9c",
        "outputId": "df58519f-0c15-4f76-d45f-7df52f930ad7"
      },
      "outputs": [
        {
          "output_type": "execute_result",
          "data": {
            "text/plain": [
              "array([[ 0.75, -2.  ,  1.5 ],\n",
              "       [ 0.25,  1.  , -0.5 ],\n",
              "       [ 4.5 ,  5.  , -2.  ]])"
            ]
          },
          "metadata": {},
          "execution_count": 41
        }
      ],
      "source": [
        "addRow(A, 2, 1, -2)"
      ]
    },
    {
      "cell_type": "markdown",
      "source": [
        "In the next part of the question we create an algorithm for solving systems of equations following the Gauss-Jordan elimination method"
      ],
      "metadata": {
        "id": "Pgwu_m88pSG6"
      },
      "id": "Pgwu_m88pSG6"
    },
    {
      "cell_type": "code",
      "source": [
        "def gauss_jordan(A, b):\n",
        "    matrix = np.concatenate((A, b.reshape(-1,1)), axis=1)\n",
        "    rows, cols = matrix.shape\n",
        "    for j in range(cols-1):\n",
        "        if not np.any(matrix[j:, j]):\n",
        "            raise ValueError(\"System of equations has infinitely many solutions or no solution\")\n",
        "        row_max = np.argmax(np.abs(matrix[j:, j])) + j\n",
        "        matrix[[j, row_max]] = matrix[[row_max, j]]\n",
        "        matrix[j, :] = matrix[j, :] / matrix[j, j]\n",
        "        for i in range(rows):\n",
        "            if i != j:\n",
        "                matrix[i, :] = matrix[i, :] - matrix[i, j]*matrix[j, :]\n",
        "    x = matrix[:, -1]\n",
        "    return x\n",
        "\n",
        "# Example system of equations:\n",
        "# 2x + 3y - z = 1\n",
        "# x - y + z = 3\n",
        "# 3x + 4y - 2z = -1\n",
        "\n",
        "# Converting the equations into matrix form\n",
        "A = np.array([[2, 3, -1], [1, -1, 1], [3, 4, -2]])\n",
        "B = np.array([1, 3, -1])\n",
        "\n",
        "# Solving the above system using Gauss-Jordan elimination\n",
        "x = gauss_jordan(A, B)\n",
        "print(x)\n"
      ],
      "metadata": {
        "colab": {
          "base_uri": "https://localhost:8080/"
        },
        "id": "CkvJ_k2ep2ab",
        "outputId": "9c9b8666-fd2f-4f8f-8bae-334e88c30c3b"
      },
      "id": "CkvJ_k2ep2ab",
      "execution_count": 42,
      "outputs": [
        {
          "output_type": "stream",
          "name": "stdout",
          "text": [
            "[ 1 -1 -2]\n"
          ]
        }
      ]
    }
  ],
  "metadata": {
    "kernelspec": {
      "display_name": "Python 3 (ipykernel)",
      "language": "python",
      "name": "python3"
    },
    "language_info": {
      "codemirror_mode": {
        "name": "ipython",
        "version": 3
      },
      "file_extension": ".py",
      "mimetype": "text/x-python",
      "name": "python",
      "nbconvert_exporter": "python",
      "pygments_lexer": "ipython3",
      "version": "3.9.13"
    },
    "colab": {
      "provenance": []
    }
  },
  "nbformat": 4,
  "nbformat_minor": 5
}